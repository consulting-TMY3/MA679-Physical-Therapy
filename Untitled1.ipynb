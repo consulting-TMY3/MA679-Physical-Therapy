{
 "cells": [
  {
   "cell_type": "markdown",
   "id": "59307baa",
   "metadata": {},
   "source": [
    "https://github.com/techshot25/Autoencoders/blob/master/simple-autoencoder.ipynb\n",
    "This simple code shows you how to make an autoencoder using Pytorch. The idea is to bring down the number of dimensions (or reduce the feature space) using neural networks.\n",
    "\n",
    "The idea is simple, let the neural network learn how to make the encoder and the decoder using the feature space as both the input and the output of the network."
   ]
  },
  {
   "cell_type": "code",
   "execution_count": 3,
   "id": "4d4ba794",
   "metadata": {},
   "outputs": [],
   "source": [
    "import torch\n",
    "from torch import nn, optim\n",
    "import numpy as np\n",
    "from matplotlib import pyplot as plt\n",
    "import mpl_toolkits.mplot3d.axes3d as p3\n",
    "from sklearn.preprocessing import MinMaxScaler\n",
    "\n",
    "import pandas as pd"
   ]
  },
  {
   "cell_type": "markdown",
   "id": "1ae0db15",
   "metadata": {},
   "source": [
    "2d swiss roll"
   ]
  },
  {
   "cell_type": "code",
   "execution_count": 13,
   "id": "50bd2c38",
   "metadata": {},
   "outputs": [],
   "source": [
    "device = ('cuda' if torch.cuda.is_available() else 'cpu')"
   ]
  },
  {
   "cell_type": "code",
   "execution_count": 27,
   "id": "6262a3b1",
   "metadata": {},
   "outputs": [],
   "source": [
    "X = pd.read_csv('Data/V_GRF_stance_N.csv').values"
   ]
  },
  {
   "cell_type": "code",
   "execution_count": 19,
   "id": "a3db8e11",
   "metadata": {},
   "outputs": [],
   "source": [
    "x = torch.from_numpy(X).to(device)\n",
    "\n",
    "class Autoencoder(nn.Module):\n",
    "    \"\"\"Makes the main denoising auto\n",
    "\n",
    "    Parameters\n",
    "    ----------\n",
    "    in_shape [int] : input shape\n",
    "    enc_shape [int] : desired encoded shape\n",
    "    \"\"\"\n",
    "\n",
    "    def __init__(self, in_shape, enc_shape):\n",
    "        super(Autoencoder, self).__init__()\n",
    "        \n",
    "        self.encode = nn.Sequential(\n",
    "            nn.Linear(in_shape, 128),\n",
    "            nn.ReLU(True),\n",
    "            nn.Dropout(0.2), #regularization\n",
    "            nn.Linear(128, 64),\n",
    "            nn.ReLU(True),\n",
    "            nn.Dropout(0.2),\n",
    "            nn.Linear(64, enc_shape),\n",
    "        )\n",
    "        \n",
    "        self.decode = nn.Sequential(\n",
    "            nn.BatchNorm1d(enc_shape),\n",
    "            nn.Linear(enc_shape, 64),\n",
    "            nn.ReLU(True),\n",
    "            nn.Dropout(0.2),\n",
    "            nn.Linear(64, 128),\n",
    "            nn.ReLU(True),\n",
    "            nn.Dropout(0.2),\n",
    "            nn.Linear(128, in_shape)\n",
    "        )\n",
    "        \n",
    "    def forward(self, x):\n",
    "        x = self.encode(x)\n",
    "        x = self.decode(x)\n",
    "        return x\n",
    "    \n",
    "encoder = Autoencoder(in_shape=100, enc_shape=2).double().to(device)\n",
    "\n",
    "error = nn.MSELoss()\n",
    "\n",
    "optimizer = optim.Adam(encoder.parameters())"
   ]
  },
  {
   "cell_type": "code",
   "execution_count": 16,
   "id": "82f146fa",
   "metadata": {},
   "outputs": [],
   "source": [
    "def train(model, error, optimizer, n_epochs, x):\n",
    "    model.train()\n",
    "    for epoch in range(1, n_epochs + 1):\n",
    "        optimizer.zero_grad()\n",
    "        output = model(x)\n",
    "        loss = error(output, x)\n",
    "        loss.backward()\n",
    "        optimizer.step()\n",
    "        \n",
    "        if epoch % int(0.1*n_epochs) == 0:\n",
    "            print(f'epoch {epoch} \\t Loss: {loss.item():.4g}')"
   ]
  },
  {
   "cell_type": "code",
   "execution_count": 23,
   "id": "354325f6",
   "metadata": {},
   "outputs": [
    {
     "name": "stdout",
     "output_type": "stream",
     "text": [
      "epoch 1 \t Loss: 1.074e+05\n",
      "epoch 2 \t Loss: 1.069e+05\n",
      "epoch 3 \t Loss: 1.064e+05\n",
      "epoch 4 \t Loss: 1.059e+05\n",
      "epoch 5 \t Loss: 1.054e+05\n",
      "epoch 6 \t Loss: 1.049e+05\n",
      "epoch 7 \t Loss: 1.044e+05\n",
      "epoch 8 \t Loss: 1.038e+05\n",
      "epoch 9 \t Loss: 1.032e+05\n",
      "epoch 10 \t Loss: 1.026e+05\n"
     ]
    }
   ],
   "source": [
    "train(encoder, error, optimizer, 10, x)"
   ]
  },
  {
   "cell_type": "code",
   "execution_count": 24,
   "id": "597a3bbe",
   "metadata": {},
   "outputs": [],
   "source": [
    "with torch.no_grad():\n",
    "    encoded = encoder.encode(x)\n",
    "    decoded = encoder.decode(encoded)\n",
    "    mse = error(decoded, x).item()\n",
    "    enc = encoded.cpu().detach().numpy()\n",
    "    dec = decoded.cpu().detach().numpy()"
   ]
  },
  {
   "cell_type": "code",
   "execution_count": 26,
   "id": "b6a90fda",
   "metadata": {},
   "outputs": [
    {
     "data": {
      "image/png": "[encoded data removed]",
      "text/plain": [
       "<Figure size 432x288 with 1 Axes>"
      ]
     },
     "metadata": {
      "needs_background": "light"
     },
     "output_type": "display_data"
    }
   ],
   "source": [
    "plt.scatter(enc[:, 0], enc[:, 1], cmap=plt.cm.jet)\n",
    "plt.title('Encoded Swiss Roll')\n",
    "plt.show()"
   ]
  },
  {
   "cell_type": "code",
   "execution_count": 31,
   "id": "4d33e2a0",
   "metadata": {},
   "outputs": [
    {
     "data": {
      "text/html": [
       "<div>\n",
       "<style scoped>\n",
       "    .dataframe tbody tr th:only-of-type {\n",
       "        vertical-align: middle;\n",
       "    }\n",
       "\n",
       "    .dataframe tbody tr th {\n",
       "        vertical-align: top;\n",
       "    }\n",
       "\n",
       "    .dataframe thead th {\n",
       "        text-align: right;\n",
       "    }\n",
       "</style>\n",
       "<table border=\"1\" class=\"dataframe\">\n",
       "  <thead>\n",
       "    <tr style=\"text-align: right;\">\n",
       "      <th></th>\n",
       "      <th>0</th>\n",
       "      <th>1</th>\n",
       "    </tr>\n",
       "  </thead>\n",
       "  <tbody>\n",
       "    <tr>\n",
       "      <th>0</th>\n",
       "      <td>107.838507</td>\n",
       "      <td>420.511342</td>\n",
       "    </tr>\n",
       "    <tr>\n",
       "      <th>1</th>\n",
       "      <td>121.949359</td>\n",
       "      <td>356.387630</td>\n",
       "    </tr>\n",
       "    <tr>\n",
       "      <th>2</th>\n",
       "      <td>59.532544</td>\n",
       "      <td>417.527174</td>\n",
       "    </tr>\n",
       "    <tr>\n",
       "      <th>3</th>\n",
       "      <td>68.761017</td>\n",
       "      <td>390.276131</td>\n",
       "    </tr>\n",
       "    <tr>\n",
       "      <th>4</th>\n",
       "      <td>319.781815</td>\n",
       "      <td>191.592738</td>\n",
       "    </tr>\n",
       "    <tr>\n",
       "      <th>...</th>\n",
       "      <td>...</td>\n",
       "      <td>...</td>\n",
       "    </tr>\n",
       "    <tr>\n",
       "      <th>15690</th>\n",
       "      <td>-67.989826</td>\n",
       "      <td>-87.692833</td>\n",
       "    </tr>\n",
       "    <tr>\n",
       "      <th>15691</th>\n",
       "      <td>-198.982269</td>\n",
       "      <td>-44.843832</td>\n",
       "    </tr>\n",
       "    <tr>\n",
       "      <th>15692</th>\n",
       "      <td>-261.153901</td>\n",
       "      <td>-60.853946</td>\n",
       "    </tr>\n",
       "    <tr>\n",
       "      <th>15693</th>\n",
       "      <td>-200.152228</td>\n",
       "      <td>-33.876963</td>\n",
       "    </tr>\n",
       "    <tr>\n",
       "      <th>15694</th>\n",
       "      <td>-207.685117</td>\n",
       "      <td>-25.138580</td>\n",
       "    </tr>\n",
       "  </tbody>\n",
       "</table>\n",
       "<p>15695 rows × 2 columns</p>\n",
       "</div>"
      ],
      "text/plain": [
       "                0           1\n",
       "0      107.838507  420.511342\n",
       "1      121.949359  356.387630\n",
       "2       59.532544  417.527174\n",
       "3       68.761017  390.276131\n",
       "4      319.781815  191.592738\n",
       "...           ...         ...\n",
       "15690  -67.989826  -87.692833\n",
       "15691 -198.982269  -44.843832\n",
       "15692 -261.153901  -60.853946\n",
       "15693 -200.152228  -33.876963\n",
       "15694 -207.685117  -25.138580\n",
       "\n",
       "[15695 rows x 2 columns]"
      ]
     },
     "execution_count": 31,
     "metadata": {},
     "output_type": "execute_result"
    }
   ],
   "source": [
    "pd.DataFrame(enc)"
   ]
  }
 ],
 "metadata": {
  "kernelspec": {
   "display_name": "Python 3 (ipykernel)",
   "language": "python",
   "name": "python3"
  },
  "language_info": {
   "codemirror_mode": {
    "name": "ipython",
    "version": 3
   },
   "file_extension": ".py",
   "mimetype": "text/x-python",
   "name": "python",
   "nbconvert_exporter": "python",
   "pygments_lexer": "ipython3",
   "version": "3.10.4"
  }
 },
 "nbformat": 4,
 "nbformat_minor": 5
}
